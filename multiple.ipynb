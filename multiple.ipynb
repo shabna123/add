{
 "cells": [
  {
   "cell_type": "code",
   "execution_count": 1,
   "id": "8db51d54",
   "metadata": {},
   "outputs": [
    {
     "name": "stdout",
     "output_type": "stream",
     "text": [
      "first3\n",
      "second5\n",
      "product 15\n"
     ]
    }
   ],
   "source": [
    "a=int(input(\"first\"))\n",
    "b=int(input(\"second\"))\n",
    "m=a*b\n",
    "print(\"product\",m)"
   ]
  },
  {
   "cell_type": "code",
   "execution_count": null,
   "id": "ea28d24e",
   "metadata": {},
   "outputs": [],
   "source": []
  }
 ],
 "metadata": {
  "kernelspec": {
   "display_name": "Python 3 (ipykernel)",
   "language": "python",
   "name": "python3"
  },
  "language_info": {
   "codemirror_mode": {
    "name": "ipython",
    "version": 3
   },
   "file_extension": ".py",
   "mimetype": "text/x-python",
   "name": "python",
   "nbconvert_exporter": "python",
   "pygments_lexer": "ipython3",
   "version": "3.8.7rc1"
  }
 },
 "nbformat": 4,
 "nbformat_minor": 5
}
