{
 "cells": [
  {
   "cell_type": "code",
   "execution_count": 1,
   "id": "a69b301a",
   "metadata": {},
   "outputs": [
    {
     "name": "stdout",
     "output_type": "stream",
     "text": [
      "first10\n",
      "second3\n",
      "difference 7\n"
     ]
    }
   ],
   "source": [
    "a=int(input(\"first\"))\n",
    "b=int(input(\"second\"))\n",
    "d=a-b\n",
    "print(\"difference\",d)"
   ]
  },
  {
   "cell_type": "code",
   "execution_count": null,
   "id": "14ae305b",
   "metadata": {},
   "outputs": [],
   "source": []
  }
 ],
 "metadata": {
  "kernelspec": {
   "display_name": "Python 3 (ipykernel)",
   "language": "python",
   "name": "python3"
  },
  "language_info": {
   "codemirror_mode": {
    "name": "ipython",
    "version": 3
   },
   "file_extension": ".py",
   "mimetype": "text/x-python",
   "name": "python",
   "nbconvert_exporter": "python",
   "pygments_lexer": "ipython3",
   "version": "3.8.7rc1"
  }
 },
 "nbformat": 4,
 "nbformat_minor": 5
}
